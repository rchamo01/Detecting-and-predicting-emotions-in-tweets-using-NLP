{
 "cells": [
  {
   "cell_type": "markdown",
   "metadata": {},
   "source": [
    "# Prototype for Twitter Emotion Analyzer\n",
    "\n",
    "In this notebook we developed the model and several functions which we later adapted to the Dash app (that makes the core of our project). There are possibly cells that don't work properly since we did a lot of changes and kept this file just as a means of showing what we had worked with in the prototype.\n",
    "\n",
    "The main use we made of this notebook was in training the model and testing predictions. It went through a lot of iterations and this version is the last one before we moved on to the Dash app notebook (and then to the app.py file)."
   ]
  },
  {
   "cell_type": "code",
   "execution_count": 3,
   "metadata": {
    "id": "l2efBaA3YI56"
   },
   "outputs": [],
   "source": [
    "import os\n",
    "import itertools\n",
    "import pandas as pd\n",
    "import numpy as np\n",
    "import matplotlib.pyplot as plt\n",
    "import seaborn as sns\n",
    "import re\n",
    "import nltk\n",
    "from nltk.corpus import stopwords\n",
    "from nltk import WordNetLemmatizer \n",
    "import emoji\n",
    "import string\n",
    "from tensorflow.keras.preprocessing import sequence\n",
    "from tensorflow.keras.models import Sequential\n",
    "from tensorflow.keras.layers import Dense, SimpleRNN, LSTM, Embedding, Dropout\n",
    "from tensorflow.keras.optimizers import Adam, RMSprop, SGD\n",
    "from tensorflow.keras.callbacks import EarlyStopping, ModelCheckpoint\n",
    "from tensorflow.keras.models import load_model, save_model\n",
    "from sklearn.model_selection import train_test_split, KFold, StratifiedKFold\n",
    "from sklearn import preprocessing\n",
    "from sklearn.utils.class_weight import compute_class_weight\n",
    "from sklearn.metrics import confusion_matrix"
   ]
  },
  {
   "cell_type": "code",
   "execution_count": 4,
   "metadata": {
    "colab": {
     "base_uri": "https://localhost:8080/"
    },
    "id": "owVL8tl4gv7k",
    "outputId": "c2dcd550-a9c9-4d3e-9c97-992c3d78154c"
   },
   "outputs": [
    {
     "name": "stderr",
     "output_type": "stream",
     "text": [
      "[nltk_data] Downloading package stopwords to\n",
      "[nltk_data]     C:\\Users\\Joaquin\\AppData\\Roaming\\nltk_data...\n",
      "[nltk_data]   Package stopwords is already up-to-date!\n",
      "[nltk_data] Downloading package punkt to\n",
      "[nltk_data]     C:\\Users\\Joaquin\\AppData\\Roaming\\nltk_data...\n",
      "[nltk_data]   Package punkt is already up-to-date!\n"
     ]
    },
    {
     "data": {
      "text/plain": [
       "True"
      ]
     },
     "execution_count": 4,
     "metadata": {},
     "output_type": "execute_result"
    }
   ],
   "source": [
    "nltk.download('stopwords')\n",
    "nltk.download('punkt')"
   ]
  },
  {
   "cell_type": "markdown",
   "metadata": {
    "id": "BVOWI_3RpSQN"
   },
   "source": [
    "Data from: https://www.kaggle.com/praveengovi/emotions-dataset-for-nlp"
   ]
  },
  {
   "cell_type": "markdown",
   "metadata": {
    "id": "ZmH4q8g93yVH"
   },
   "source": [
    "## Loading Files"
   ]
  },
  {
   "cell_type": "code",
   "execution_count": 5,
   "metadata": {
    "id": "pfini4-r5luL"
   },
   "outputs": [],
   "source": [
    "#from google.colab import drive\n",
    "#drive.mount('/content/drive')"
   ]
  },
  {
   "cell_type": "code",
   "execution_count": 6,
   "metadata": {
    "colab": {
     "base_uri": "https://localhost:8080/"
    },
    "id": "pEhSlFn_3-Ha",
    "outputId": "2dbb6d27-e41f-4a80-ff7b-21c3a37b67d7"
   },
   "outputs": [],
   "source": [
    "# If executing on colab use Unix command.\n",
    "# Manually upload the archive.zip file or access Drive folder.\n",
    "# !unzip dataset.zip -d dataset"
   ]
  },
  {
   "cell_type": "code",
   "execution_count": 7,
   "metadata": {
    "id": "B-3qfoxnYgFc"
   },
   "outputs": [],
   "source": [
    "# If executing locally use ZipFile.\n",
    "# from zipfile import ZipFile\n",
    "# zf = ZipFile('dataset.zip', 'r')\n",
    "# zf.extractall(r'dataset')\n",
    "# zf.close()"
   ]
  },
  {
   "cell_type": "markdown",
   "metadata": {
    "id": "Tp6YUO3c3yVJ"
   },
   "source": [
    "# Pre-processing"
   ]
  },
  {
   "cell_type": "markdown",
   "metadata": {
    "id": "RG_Y2Sdh3yVM"
   },
   "source": [
    "## Importing DataFrames"
   ]
  },
  {
   "cell_type": "code",
   "execution_count": 8,
   "metadata": {
    "id": "d3IiWstzcq_J"
   },
   "outputs": [],
   "source": [
    "# Original dataset.\n",
    "# df_data_raw = pd.read_csv('dataset/dataNLP.csv')\n",
    "# SemEval dataset.\n",
    "# df_data_raw = pd.read_csv('dataset/semeval_6_sin_repetir.csv')\n",
    "# Final mixed dataset.\n",
    "df_data_raw = pd.read_csv('dataset/semevalNLP.csv')"
   ]
  },
  {
   "cell_type": "code",
   "execution_count": 9,
   "metadata": {},
   "outputs": [],
   "source": [
    "# Function used to process the SemEval dataset in order to remove duplicated texts. d = Different estimated weights based on lacking classes in original dataset.\n",
    "def drop_clones(dataframe):\n",
    "    d = {'joy': 0.1, 'love':0.15, 'anger':0.25,'fear':0.3, 'surprise':0.2, 'sadness':0.4}\n",
    "\n",
    "    df = dataframe.copy()\n",
    "    i=0\n",
    "    while i <= len(df)+1:\n",
    "        pos1 = i\n",
    "        if pos1 == 19931:\n",
    "            for i in range(len(df)):\n",
    "                if df['text'][i] == 'Xdelete':\n",
    "                    df = df.drop(index=i)\n",
    "            return df.reset_index(drop=True)\n",
    "        pos2 = i+1\n",
    "        if df['text'][pos1] == df['text'][pos2]:\n",
    "            key1 = df.loc[pos1,'emotion']\n",
    "            key2 = df.loc[pos2,'emotion']\n",
    "            score1 = d.get(key1)\n",
    "            score2 = d.get(key2)\n",
    "            if(score1>score2):\n",
    "                df.at[pos2, 'text']  = 'Xdelete'\n",
    "            if(score2>score1):\n",
    "                df.at[pos1, 'text']  = 'Xdelete'\n",
    "        \n",
    "        else:\n",
    "            i += 1\n",
    "    \n",
    "\n",
    "    return df.reset_index(drop=True)"
   ]
  },
  {
   "cell_type": "markdown",
   "metadata": {
    "id": "JYtYqAArfjzl"
   },
   "source": [
    "## Tokenization"
   ]
  },
  {
   "cell_type": "markdown",
   "metadata": {
    "id": "_dTOqCdT3yVQ"
   },
   "source": [
    "In this case, the documents are already clean so we don't need to apply any regular expression in order to remove links and such; those are already processed in the documents.\n",
    "\n",
    "We will directly tokenize and then remove stopwords in each document with this function."
   ]
  },
  {
   "cell_type": "code",
   "execution_count": 10,
   "metadata": {
    "id": "VNc37UlCZw38"
   },
   "outputs": [],
   "source": [
    "def prepare(dataframe):\n",
    "    df = dataframe.copy()\n",
    "    # extract hashtags\n",
    "    df[\"text\"]=df[\"text\"].apply(lambda x: re.sub(r\"#\",' ',x))\n",
    "    # translate emojis\n",
    "    df[\"text\"]=df[\"text\"].apply(lambda x: emoji.demojize(x))\n",
    "    # remove urls\n",
    "    df[\"text\"]=df[\"text\"].apply(lambda x: re.sub(r'https?:/(/[\\w|.]*)+',' ',x))\n",
    "    # remove @'s\n",
    "    df[\"text\"]=df[\"text\"].apply(lambda x: re.sub(r'@\\w+',' ',x))\n",
    "    # blankspace\n",
    "    df[\"text\"]=df[\"text\"].apply(lambda x: re.sub(r'\\s+',' ',x))\n",
    "\n",
    "    # lemmatize\n",
    "    lemma = nltk.WordNetLemmatizer()  \n",
    "    \n",
    "    df[\"text\"]=df[\"text\"].apply(lambda x: lemma.lemmatize(str(x).lower()))\n",
    "    # tokenize\n",
    "    df[\"text\"]=df[\"text\"].apply(lambda x: nltk.word_tokenize(str(x).lower()))\n",
    " \n",
    "    # remove stopwords\n",
    "    df[\"text\"]=df[\"text\"].apply(lambda x: [y for y in x if (y not in stopwords.words('english'))])\n",
    "    # remove punctuation\n",
    "    df[\"text\"]=df[\"text\"].apply(lambda x: [re.sub(r'['+string.punctuation+']','',y) for y in x])\n",
    "    # remove breaks\n",
    "    df[\"text\"]=df[\"text\"].apply(lambda x: [re.sub('\\n','',y) for y in x])\n",
    "    # remove weird, small words\n",
    "    df[\"text\"]=df[\"text\"].apply(lambda x: [y for y in x if len(y) > 2])\n",
    "\n",
    "    return df"
   ]
  },
  {
   "cell_type": "code",
   "execution_count": 11,
   "metadata": {
    "id": "AfkKco7Pg9Xq"
   },
   "outputs": [],
   "source": [
    "# Apply the function to the dataframe. This may take a few minutes to compute.\n",
    "df_data = prepare(df_data_raw)"
   ]
  },
  {
   "cell_type": "code",
   "execution_count": 12,
   "metadata": {
    "id": "yF7PVUHdg0Bx"
   },
   "outputs": [],
   "source": [
    "# df_data.to_csv('dataset/semevalNLP_processed.csv', index=False)"
   ]
  },
  {
   "cell_type": "markdown",
   "metadata": {},
   "source": [
    "Prepared dataset for training"
   ]
  },
  {
   "cell_type": "code",
   "execution_count": 13,
   "metadata": {},
   "outputs": [],
   "source": [
    "# df_data = pd.read_csv('dataset/semevalNLP_processed.csv')"
   ]
  },
  {
   "cell_type": "markdown",
   "metadata": {
    "id": "84tovQ7Y4oAP"
   },
   "source": [
    "# Encoding"
   ]
  },
  {
   "cell_type": "markdown",
   "metadata": {
    "id": "pfIjFSeG3yVS"
   },
   "source": [
    "## Word Encoding"
   ]
  },
  {
   "cell_type": "code",
   "execution_count": 14,
   "metadata": {
    "id": "VheeJv3fZw4A"
   },
   "outputs": [],
   "source": [
    "def encode(dataframe):\n",
    "\n",
    "  # corpus_words is a list comprised of lists of words.  \n",
    "  corpus_words = []\n",
    "  for i in range(len(dataframe)):\n",
    "    corpus_words.append(dataframe.text[i]) \n",
    "\n",
    "  # all_words is a list of all the words in all of corpus_words lists\n",
    "  allwords = []\n",
    "  for i in range(len(corpus_words)):\n",
    "    allwords += corpus_words[i] # All words, from all documents.\n",
    "\n",
    "  # ordered_words has an index for every word in allwords, ordered by relative frequency.\n",
    "  ordered_words = pd.Series(allwords).value_counts().index # All words, ordered by increasing relative frequency.\n",
    "\n",
    "  # dict_words has every index from ordered_words ?????\n",
    "  dict_words = {}\n",
    "  for i in range(len(ordered_words)): # Using ordered_words \n",
    "    dict_words[ordered_words[i]] = i+1\n",
    "\n",
    "  # Series of a list that contains the code for each word in each document in the data.\n",
    "  list = []\n",
    "  for i in np.arange(len(dataframe.text)):\n",
    "      list.append(pd.Series(dataframe.text[i], dtype = str).apply(lambda x: dict_words[x]))\n",
    "  return pd.Series(list)"
   ]
  },
  {
   "cell_type": "code",
   "execution_count": 15,
   "metadata": {
    "id": "LMlEOD1g3yVV"
   },
   "outputs": [],
   "source": [
    "# Encoding each word present in corpus_words documents.\n",
    "\n",
    "# encoded_corpus = []\n",
    "# for i in range(len(corpus_words)):\n",
    "#   words = corpus_words[i]\n",
    "#   words2int = [ dict_words[wrd] for wrd in words if wrd in dict_words ] # Give each word their value in the dict.\n",
    "#   encoded_corpus.append(words2int)"
   ]
  },
  {
   "cell_type": "markdown",
   "metadata": {
    "id": "POuZ_-Yc3yVW"
   },
   "source": [
    "## Data encoding"
   ]
  },
  {
   "cell_type": "code",
   "execution_count": 16,
   "metadata": {},
   "outputs": [
    {
     "name": "stdout",
     "output_type": "stream",
     "text": [
      "Mean length: 8.902919860419338\n",
      "Lengths stdev: 4.578897023888167\n",
      "Lengths Median: 8.0\n",
      "Lengths Max: 34\n",
      "maxlen: 34\n"
     ]
    }
   ],
   "source": [
    "# Statistics for document length as an estimation for determining padding parameters.\n",
    "\n",
    "lengths = [len(a) for a in df_data['text']]\n",
    "print(\"Mean length: {}\".format(np.mean(lengths)))\n",
    "print(\"Lengths stdev: {}\".format(np.std(lengths)))\n",
    "print(\"Lengths Median: {}\".format(np.median(lengths)))\n",
    "print(\"Lengths Max: {}\".format(np.max(lengths)))\n",
    "\n",
    "# Choose a good value for maxlen\n",
    "\n",
    "maxlen=np.max(lengths)\n",
    "print(f'maxlen: {maxlen}')"
   ]
  },
  {
   "cell_type": "code",
   "execution_count": 17,
   "metadata": {},
   "outputs": [
    {
     "name": "stdout",
     "output_type": "stream",
     "text": [
      "{'anger': 5686, 'fear': 4053, 'joy': 9394, 'love': 2975, 'sadness': 10109, 'surprise': 1312} \n",
      " {'anger': 0, 'fear': 1, 'joy': 2, 'love': 3, 'sadness': 4, 'surprise': 5}\n"
     ]
    }
   ],
   "source": [
    "dict_claves = {'anger': list(df_data.loc[:,'emotion']).count('anger'),\n",
    "'fear':list(df_data.loc[:,'emotion']).count('fear'),\n",
    "'joy':list(df_data.loc[:,'emotion']).count('joy'),\n",
    "'love':list(df_data.loc[:,'emotion']).count('love'),\n",
    "'sadness':list(df_data.loc[:,'emotion']).count('sadness'),\n",
    "'surprise':list(df_data.loc[:,'emotion']).count('surprise')}\n",
    "\n",
    "dict_emotions = {'anger':0, 'fear':1, 'joy':2, 'love':3, 'sadness':4, 'surprise':5,}\n",
    "\n",
    "print(dict_claves,'\\n', dict_emotions)"
   ]
  },
  {
   "cell_type": "code",
   "execution_count": 18,
   "metadata": {},
   "outputs": [],
   "source": [
    "class_weights = compute_class_weight('balanced', classes = np.unique(df_data.loc[:,'emotion']), y = np.ravel(np.array(df_data.loc[:, 'emotion'])))\n",
    "class_weights = {l:c for l,c in zip(range(len(dict_claves.keys())), class_weights)} #to dict"
   ]
  },
  {
   "cell_type": "code",
   "execution_count": 19,
   "metadata": {},
   "outputs": [
    {
     "data": {
      "text/plain": [
       "{0: 0.982793996951577,\n",
       " 1: 1.3787729254050498,\n",
       " 2: 0.5948655169966646,\n",
       " 3: 1.878375350140056,\n",
       " 4: 0.5527912421274772,\n",
       " 5: 4.259273373983739}"
      ]
     },
     "execution_count": 19,
     "metadata": {},
     "output_type": "execute_result"
    }
   ],
   "source": [
    "class_weights"
   ]
  },
  {
   "cell_type": "code",
   "execution_count": 20,
   "metadata": {},
   "outputs": [
    {
     "name": "stdout",
     "output_type": "stream",
     "text": [
      "['grabbing', 'minute', 'post', 'feel', 'greedy', 'wrong']\n"
     ]
    }
   ],
   "source": [
    "print(df_data.text[2])"
   ]
  },
  {
   "cell_type": "code",
   "execution_count": 21,
   "metadata": {},
   "outputs": [],
   "source": [
    "X_raw = encode(df_data)\n",
    "y_raw = df_data['emotion']"
   ]
  },
  {
   "cell_type": "code",
   "execution_count": 22,
   "metadata": {
    "id": "elXFsmbO3yVX"
   },
   "outputs": [],
   "source": [
    "# Make dataframes of train and test, then encode all the data into encoded variables\n",
    "\n",
    "x_train_encoded, x_test_encoded, y_train_raw, y_test_raw = train_test_split(X_raw, y_raw, test_size=0.2, random_state=42, shuffle=True)"
   ]
  },
  {
   "cell_type": "code",
   "execution_count": 23,
   "metadata": {},
   "outputs": [],
   "source": [
    "X_train = np.array(x_train_encoded)\n",
    "X_test = np.array(x_test_encoded)"
   ]
  },
  {
   "cell_type": "code",
   "execution_count": 24,
   "metadata": {},
   "outputs": [
    {
     "name": "stdout",
     "output_type": "stream",
     "text": [
      "['anger', 'fear', 'joy', 'love', 'sadness', 'surprise']\n"
     ]
    }
   ],
   "source": [
    "le = preprocessing.LabelEncoder()\n",
    "le.fit(y_train_raw)\n",
    "print(list(le.classes_))"
   ]
  },
  {
   "cell_type": "code",
   "execution_count": 25,
   "metadata": {},
   "outputs": [],
   "source": [
    "Y_train = le.transform(y_train_raw)\n",
    "Y_test = le.transform(y_test_raw)"
   ]
  },
  {
   "cell_type": "code",
   "execution_count": 26,
   "metadata": {},
   "outputs": [],
   "source": [
    "# Pad sequencing based on maxlen variable.\n",
    "X_trainFinal = sequence.pad_sequences(X_train, maxlen, padding='post')\n",
    "X_testFinal = sequence.pad_sequences(X_test, maxlen, padding = 'post')"
   ]
  },
  {
   "cell_type": "code",
   "execution_count": 27,
   "metadata": {},
   "outputs": [
    {
     "data": {
      "text/plain": [
       "array([0, 2, 4, ..., 2, 4, 4])"
      ]
     },
     "execution_count": 27,
     "metadata": {},
     "output_type": "execute_result"
    }
   ],
   "source": [
    "Y_train"
   ]
  },
  {
   "cell_type": "markdown",
   "metadata": {
    "id": "sGMt5_qf4vMK"
   },
   "source": [
    "# Model"
   ]
  },
  {
   "cell_type": "markdown",
   "metadata": {
    "id": "c8ytMJ1q3yVb"
   },
   "source": [
    "## Model Definition"
   ]
  },
  {
   "cell_type": "code",
   "execution_count": 28,
   "metadata": {
    "id": "mhchIa9urcoD"
   },
   "outputs": [],
   "source": [
    "numNeurons = 50       # Neurons per LSTM cell.\n",
    "numDense = 100      # Word embedding dense vector dimension.\n",
    "numWords = 23000"
   ]
  },
  {
   "cell_type": "code",
   "execution_count": 29,
   "metadata": {
    "id": "IOHECib_l_sY"
   },
   "outputs": [],
   "source": [
    "modelo = Sequential(name = \"Emotion_classifier\")\n",
    "modelo.add(Embedding(name = \"embedding\", input_dim = numWords, output_dim = numDense))\n",
    "\n",
    "modelo.add(LSTM(name = \"lstm\", input_shape=(None,numDense), dropout = 0.2, units = numNeurons, return_sequences = False,\n",
    "                activation = 'tanh'))\n",
    "modelo.add(Dense(name = \"dense\",units = 6,activation = 'softmax'))"
   ]
  },
  {
   "cell_type": "code",
   "execution_count": 30,
   "metadata": {
    "colab": {
     "base_uri": "https://localhost:8080/"
    },
    "id": "CFCIrkDvrlBw",
    "outputId": "ec8d836b-67f0-4a71-88dc-ab4b65344b68"
   },
   "outputs": [
    {
     "name": "stdout",
     "output_type": "stream",
     "text": [
      "Model: \"Emotion_classifier\"\n",
      "_________________________________________________________________\n",
      "Layer (type)                 Output Shape              Param #   \n",
      "=================================================================\n",
      "embedding (Embedding)        (None, None, 100)         2300000   \n",
      "_________________________________________________________________\n",
      "lstm (LSTM)                  (None, 50)                30200     \n",
      "_________________________________________________________________\n",
      "dense (Dense)                (None, 6)                 306       \n",
      "=================================================================\n",
      "Total params: 2,330,506\n",
      "Trainable params: 2,330,506\n",
      "Non-trainable params: 0\n",
      "_________________________________________________________________\n"
     ]
    }
   ],
   "source": [
    "modelo.summary()"
   ]
  },
  {
   "cell_type": "markdown",
   "metadata": {
    "id": "FbDYJphq3yVc"
   },
   "source": [
    "## Parameters"
   ]
  },
  {
   "cell_type": "code",
   "execution_count": 31,
   "metadata": {
    "id": "0WxINB2slM1p"
   },
   "outputs": [],
   "source": [
    "epochs = 9\n",
    "batch_size = 50\n",
    "learn_rate = 0.002"
   ]
  },
  {
   "cell_type": "code",
   "execution_count": 32,
   "metadata": {
    "id": "mYjQayU9mjR7"
   },
   "outputs": [],
   "source": [
    "# Optimizer, callback and performance metrics.\n",
    "optim = Adam(learning_rate = learn_rate)\n",
    "callback = EarlyStopping(monitor='val_loss', patience=3)\n",
    "\n",
    "from datetime import date\n",
    "today = str(date.today())\n",
    "filepath = 'my_best_model.epoch{epoch:02d}-loss{val_loss:.2f}.hdf5'\n",
    "\n",
    "checkpoint_filepath = 'checkpoint/'+filepath\n",
    "\n",
    "model_checkpoint_callback = ModelCheckpoint(\n",
    "    filepath=checkpoint_filepath,\n",
    "    save_weights_only=True,\n",
    "    monitor='val_loss',\n",
    "    mode='min',\n",
    "    save_best_only=True)\n",
    "\n",
    "modelo.compile(optimizer= optim, loss= 'sparse_categorical_crossentropy', metrics= ['accuracy'])"
   ]
  },
  {
   "cell_type": "markdown",
   "metadata": {
    "id": "5KvKr4Y93yVe"
   },
   "source": [
    "## Model Training"
   ]
  },
  {
   "cell_type": "code",
   "execution_count": 33,
   "metadata": {
    "colab": {
     "base_uri": "https://localhost:8080/"
    },
    "id": "VKFB-_-QmsOk",
    "outputId": "58a17f8c-91bf-4e03-88ac-49f63f574b47"
   },
   "outputs": [
    {
     "name": "stdout",
     "output_type": "stream",
     "text": [
      "WARNING:tensorflow:From C:\\Users\\Joaquin\\anaconda3\\envs\\project\\lib\\site-packages\\tensorflow\\python\\ops\\array_ops.py:5049: calling gather (from tensorflow.python.ops.array_ops) with validate_indices is deprecated and will be removed in a future version.\n",
      "Instructions for updating:\n",
      "The `validate_indices` argument has no effect. Indices are always validated on CPU and never validated on GPU.\n",
      "Epoch 1/9\n",
      "430/430 [==============================] - 30s 63ms/step - loss: 1.6595 - accuracy: 0.2383 - val_loss: 1.3640 - val_accuracy: 0.3571\n",
      "Epoch 2/9\n",
      "430/430 [==============================] - 27s 62ms/step - loss: 1.2387 - accuracy: 0.3903 - val_loss: 1.1663 - val_accuracy: 0.3582\n",
      "Epoch 3/9\n",
      "430/430 [==============================] - 26s 61ms/step - loss: 0.8963 - accuracy: 0.5316 - val_loss: 0.9642 - val_accuracy: 0.6514\n",
      "Epoch 4/9\n",
      "430/430 [==============================] - 26s 61ms/step - loss: 0.5108 - accuracy: 0.8203 - val_loss: 0.7218 - val_accuracy: 0.7771\n",
      "Epoch 5/9\n",
      "430/430 [==============================] - 25s 58ms/step - loss: 0.3118 - accuracy: 0.8924 - val_loss: 0.6855 - val_accuracy: 0.7965\n",
      "Epoch 6/9\n",
      "430/430 [==============================] - 24s 55ms/step - loss: 0.2320 - accuracy: 0.9170 - val_loss: 0.5946 - val_accuracy: 0.8246\n",
      "Epoch 7/9\n",
      "430/430 [==============================] - 25s 58ms/step - loss: 0.1680 - accuracy: 0.9385 - val_loss: 0.6653 - val_accuracy: 0.8203\n",
      "Epoch 8/9\n",
      "430/430 [==============================] - 26s 62ms/step - loss: 0.1328 - accuracy: 0.9491 - val_loss: 0.6637 - val_accuracy: 0.8242\n",
      "Epoch 9/9\n",
      "430/430 [==============================] - 26s 61ms/step - loss: 0.1219 - accuracy: 0.9535 - val_loss: 0.7080 - val_accuracy: 0.8298\n"
     ]
    }
   ],
   "source": [
    "historia = modelo.fit(X_trainFinal, Y_train, class_weight=class_weights, epochs= epochs, batch_size=batch_size, validation_split= 0.2, callbacks=[model_checkpoint_callback], verbose = 1)"
   ]
  },
  {
   "cell_type": "code",
   "execution_count": 34,
   "metadata": {
    "colab": {
     "base_uri": "https://localhost:8080/",
     "height": 295
    },
    "id": "1OBA3wvimwlw",
    "outputId": "41b5d02a-5865-4da6-8172-91c312c668fe"
   },
   "outputs": [
    {
     "data": {
      "image/png": "[encoded data removed]",
      "text/plain": [
       "<Figure size 432x288 with 1 Axes>"
      ]
     },
     "metadata": {
      "needs_background": "light"
     },
     "output_type": "display_data"
    }
   ],
   "source": [
    "\n",
    "plt.plot(historia.history['accuracy'],'b',label = 'ACC')\n",
    "plt.plot(historia.history['val_accuracy'],'g', label = 'Val_ACC')\n",
    "plt.plot(historia.history['val_loss'],'k', label = 'Val_Loss')\n",
    "plt.plot(historia.history['loss'],'r',label = 'Loss')\n",
    "plt.title(\"Training Results\")\n",
    "plt.ylabel('Measurement')\n",
    "plt.xlabel('Epoch')\n",
    "plt.legend(loc ='best')\n",
    "plt.show()"
   ]
  },
  {
   "cell_type": "code",
   "execution_count": 35,
   "metadata": {
    "colab": {
     "base_uri": "https://localhost:8080/"
    },
    "id": "u09kX_g2n5lL",
    "outputId": "6111f412-b6ed-4333-c22b-cee52627fff5"
   },
   "outputs": [
    {
     "name": "stdout",
     "output_type": "stream",
     "text": [
      "Accuracy: 0.841\n"
     ]
    }
   ],
   "source": [
    "resultados = modelo.evaluate(X_testFinal, Y_test, verbose = 0)\n",
    "accuracy = np.round(resultados[1],3)\n",
    "print(f'Accuracy: {accuracy}')"
   ]
  },
  {
   "cell_type": "code",
   "execution_count": 36,
   "metadata": {
    "id": "IGEd930NfezK"
   },
   "outputs": [
    {
     "name": "stderr",
     "output_type": "stream",
     "text": [
      "WARNING:absl:Found untraced functions such as lstm_cell_layer_call_fn, lstm_cell_layer_call_and_return_conditional_losses, lstm_cell_layer_call_fn, lstm_cell_layer_call_and_return_conditional_losses, lstm_cell_layer_call_and_return_conditional_losses while saving (showing 5 of 5). These functions will not be directly callable after loading.\n"
     ]
    },
    {
     "name": "stdout",
     "output_type": "stream",
     "text": [
      "INFO:tensorflow:Assets written to: 2021-07-02_0.841\\assets\n"
     ]
    },
    {
     "name": "stderr",
     "output_type": "stream",
     "text": [
      "INFO:tensorflow:Assets written to: 2021-07-02_0.841\\assets\n"
     ]
    }
   ],
   "source": [
    "# Using method save() to saving successfully trained models\n",
    "# Useful in case we find a great training\n",
    "from datetime import date\n",
    "today = str(date.today())\n",
    "filepath = today +'_'+ str(accuracy)\n",
    "modelo.save(filepath)\n",
    "filepathh5 = filepath+'.h5'\n",
    "modelo.save(filepathh5)"
   ]
  },
  {
   "cell_type": "code",
   "execution_count": 37,
   "metadata": {
    "id": "0BU_Mw3RfpId"
   },
   "outputs": [],
   "source": [
    "# !zip -r /content/prototipo_modelo1.zip /content/prototipo_modelo1"
   ]
  },
  {
   "cell_type": "code",
   "execution_count": 38,
   "metadata": {
    "id": "CHqg5ZGjfq7w"
   },
   "outputs": [],
   "source": [
    "# In case we deleted the model (del modelo) or wanted to load it from saved data:\n",
    "#!unzip prototipo_modelo1.zip -d modelo1_testfolder\n",
    "\n",
    "# modeloCargado = load_model('/content/prototipo_modelo1')"
   ]
  },
  {
   "cell_type": "code",
   "execution_count": 39,
   "metadata": {},
   "outputs": [
    {
     "data": {
      "text/plain": [
       "array([0, 0, 4, ..., 4, 3, 5])"
      ]
     },
     "execution_count": 39,
     "metadata": {},
     "output_type": "execute_result"
    }
   ],
   "source": [
    "Y_test"
   ]
  },
  {
   "cell_type": "code",
   "execution_count": 40,
   "metadata": {
    "id": "8tvycK-_g6oJ"
   },
   "outputs": [
    {
     "ename": "OSError",
     "evalue": "SavedModel file does not exist at: 2021-06-30_0.833.h5\\{saved_model.pbtxt|saved_model.pb}",
     "output_type": "error",
     "traceback": [
      "\u001b[1;31m---------------------------------------------------------------------------\u001b[0m",
      "\u001b[1;31mOSError\u001b[0m                                   Traceback (most recent call last)",
      "\u001b[1;32m<ipython-input-40-9ea1282df10e>\u001b[0m in \u001b[0;36m<module>\u001b[1;34m\u001b[0m\n\u001b[0;32m      1\u001b[0m \u001b[1;31m# .hdf5 = weights ; .h5 = whole model\u001b[0m\u001b[1;33m\u001b[0m\u001b[1;33m\u001b[0m\u001b[1;33m\u001b[0m\u001b[0m\n\u001b[0;32m      2\u001b[0m \u001b[1;31m# modelo.load_weights('checkpoint/my_best_model.epoch09-loss0.73.hdf5')\u001b[0m\u001b[1;33m\u001b[0m\u001b[1;33m\u001b[0m\u001b[1;33m\u001b[0m\u001b[0m\n\u001b[1;32m----> 3\u001b[1;33m \u001b[0mmodeloCargado\u001b[0m \u001b[1;33m=\u001b[0m \u001b[0mload_model\u001b[0m\u001b[1;33m(\u001b[0m\u001b[1;34m'2021-06-30_0.833.h5'\u001b[0m\u001b[1;33m)\u001b[0m\u001b[1;33m\u001b[0m\u001b[1;33m\u001b[0m\u001b[0m\n\u001b[0m\u001b[0;32m      4\u001b[0m \u001b[0mresultadosCargado\u001b[0m \u001b[1;33m=\u001b[0m \u001b[0mmodeloCargado\u001b[0m\u001b[1;33m.\u001b[0m\u001b[0mevaluate\u001b[0m\u001b[1;33m(\u001b[0m\u001b[0mX_testFinal\u001b[0m\u001b[1;33m,\u001b[0m \u001b[0mY_test\u001b[0m\u001b[1;33m,\u001b[0m \u001b[0mverbose\u001b[0m \u001b[1;33m=\u001b[0m \u001b[1;36m0\u001b[0m\u001b[1;33m)\u001b[0m\u001b[1;33m\u001b[0m\u001b[1;33m\u001b[0m\u001b[0m\n\u001b[0;32m      5\u001b[0m \u001b[0mprint\u001b[0m\u001b[1;33m(\u001b[0m\u001b[1;34m'Accuracy: {}'\u001b[0m\u001b[1;33m.\u001b[0m\u001b[0mformat\u001b[0m\u001b[1;33m(\u001b[0m\u001b[0mnp\u001b[0m\u001b[1;33m.\u001b[0m\u001b[0mround\u001b[0m\u001b[1;33m(\u001b[0m\u001b[0mresultadosCargado\u001b[0m\u001b[1;33m[\u001b[0m\u001b[1;36m1\u001b[0m\u001b[1;33m]\u001b[0m\u001b[1;33m,\u001b[0m\u001b[1;36m3\u001b[0m\u001b[1;33m)\u001b[0m\u001b[1;33m)\u001b[0m\u001b[1;33m)\u001b[0m\u001b[1;33m\u001b[0m\u001b[1;33m\u001b[0m\u001b[0m\n",
      "\u001b[1;32m~\\anaconda3\\envs\\project\\lib\\site-packages\\tensorflow\\python\\keras\\saving\\save.py\u001b[0m in \u001b[0;36mload_model\u001b[1;34m(filepath, custom_objects, compile, options)\u001b[0m\n\u001b[0;32m    204\u001b[0m         \u001b[0mfilepath\u001b[0m \u001b[1;33m=\u001b[0m \u001b[0mpath_to_string\u001b[0m\u001b[1;33m(\u001b[0m\u001b[0mfilepath\u001b[0m\u001b[1;33m)\u001b[0m\u001b[1;33m\u001b[0m\u001b[1;33m\u001b[0m\u001b[0m\n\u001b[0;32m    205\u001b[0m         \u001b[1;32mif\u001b[0m \u001b[0misinstance\u001b[0m\u001b[1;33m(\u001b[0m\u001b[0mfilepath\u001b[0m\u001b[1;33m,\u001b[0m \u001b[0mstr\u001b[0m\u001b[1;33m)\u001b[0m\u001b[1;33m:\u001b[0m\u001b[1;33m\u001b[0m\u001b[1;33m\u001b[0m\u001b[0m\n\u001b[1;32m--> 206\u001b[1;33m           \u001b[1;32mreturn\u001b[0m \u001b[0msaved_model_load\u001b[0m\u001b[1;33m.\u001b[0m\u001b[0mload\u001b[0m\u001b[1;33m(\u001b[0m\u001b[0mfilepath\u001b[0m\u001b[1;33m,\u001b[0m \u001b[0mcompile\u001b[0m\u001b[1;33m,\u001b[0m \u001b[0moptions\u001b[0m\u001b[1;33m)\u001b[0m\u001b[1;33m\u001b[0m\u001b[1;33m\u001b[0m\u001b[0m\n\u001b[0m\u001b[0;32m    207\u001b[0m \u001b[1;33m\u001b[0m\u001b[0m\n\u001b[0;32m    208\u001b[0m   raise IOError(\n",
      "\u001b[1;32m~\\anaconda3\\envs\\project\\lib\\site-packages\\tensorflow\\python\\keras\\saving\\saved_model\\load.py\u001b[0m in \u001b[0;36mload\u001b[1;34m(path, compile, options)\u001b[0m\n\u001b[0;32m    119\u001b[0m   \u001b[1;31m# Look for metadata file or parse the SavedModel\u001b[0m\u001b[1;33m\u001b[0m\u001b[1;33m\u001b[0m\u001b[1;33m\u001b[0m\u001b[0m\n\u001b[0;32m    120\u001b[0m   \u001b[0mmetadata\u001b[0m \u001b[1;33m=\u001b[0m \u001b[0msaved_metadata_pb2\u001b[0m\u001b[1;33m.\u001b[0m\u001b[0mSavedMetadata\u001b[0m\u001b[1;33m(\u001b[0m\u001b[1;33m)\u001b[0m\u001b[1;33m\u001b[0m\u001b[1;33m\u001b[0m\u001b[0m\n\u001b[1;32m--> 121\u001b[1;33m   \u001b[0mmeta_graph_def\u001b[0m \u001b[1;33m=\u001b[0m \u001b[0mloader_impl\u001b[0m\u001b[1;33m.\u001b[0m\u001b[0mparse_saved_model\u001b[0m\u001b[1;33m(\u001b[0m\u001b[0mpath\u001b[0m\u001b[1;33m)\u001b[0m\u001b[1;33m.\u001b[0m\u001b[0mmeta_graphs\u001b[0m\u001b[1;33m[\u001b[0m\u001b[1;36m0\u001b[0m\u001b[1;33m]\u001b[0m\u001b[1;33m\u001b[0m\u001b[1;33m\u001b[0m\u001b[0m\n\u001b[0m\u001b[0;32m    122\u001b[0m   \u001b[0mobject_graph_def\u001b[0m \u001b[1;33m=\u001b[0m \u001b[0mmeta_graph_def\u001b[0m\u001b[1;33m.\u001b[0m\u001b[0mobject_graph_def\u001b[0m\u001b[1;33m\u001b[0m\u001b[1;33m\u001b[0m\u001b[0m\n\u001b[0;32m    123\u001b[0m   \u001b[0mpath_to_metadata_pb\u001b[0m \u001b[1;33m=\u001b[0m \u001b[0mos\u001b[0m\u001b[1;33m.\u001b[0m\u001b[0mpath\u001b[0m\u001b[1;33m.\u001b[0m\u001b[0mjoin\u001b[0m\u001b[1;33m(\u001b[0m\u001b[0mpath\u001b[0m\u001b[1;33m,\u001b[0m \u001b[0mconstants\u001b[0m\u001b[1;33m.\u001b[0m\u001b[0mSAVED_METADATA_PATH\u001b[0m\u001b[1;33m)\u001b[0m\u001b[1;33m\u001b[0m\u001b[1;33m\u001b[0m\u001b[0m\n",
      "\u001b[1;32m~\\anaconda3\\envs\\project\\lib\\site-packages\\tensorflow\\python\\saved_model\\loader_impl.py\u001b[0m in \u001b[0;36mparse_saved_model\u001b[1;34m(export_dir)\u001b[0m\n\u001b[0;32m    114\u001b[0m         \u001b[1;34m\"SavedModel file does not exist at: %s%s{%s|%s}\"\u001b[0m \u001b[1;33m%\u001b[0m\u001b[1;33m\u001b[0m\u001b[1;33m\u001b[0m\u001b[0m\n\u001b[0;32m    115\u001b[0m         (export_dir, os.path.sep, constants.SAVED_MODEL_FILENAME_PBTXT,\n\u001b[1;32m--> 116\u001b[1;33m          constants.SAVED_MODEL_FILENAME_PB))\n\u001b[0m\u001b[0;32m    117\u001b[0m \u001b[1;33m\u001b[0m\u001b[0m\n\u001b[0;32m    118\u001b[0m \u001b[1;33m\u001b[0m\u001b[0m\n",
      "\u001b[1;31mOSError\u001b[0m: SavedModel file does not exist at: 2021-06-30_0.833.h5\\{saved_model.pbtxt|saved_model.pb}"
     ]
    }
   ],
   "source": [
    "# .hdf5 = weights ; .h5 = whole model\n",
    "# modelo.load_weights('checkpoint/my_best_model.epoch09-loss0.73.hdf5')\n",
    "modeloCargado = load_model('2021-06-30_0.833.h5')\n",
    "resultadosCargado = modeloCargado.evaluate(X_testFinal, Y_test, verbose = 0)\n",
    "print('Accuracy: {}'.format(np.round(resultadosCargado[1],3)))"
   ]
  },
  {
   "cell_type": "markdown",
   "metadata": {
    "id": "3hU8cR6c3yVi"
   },
   "source": [
    "## Predictions "
   ]
  },
  {
   "cell_type": "code",
   "execution_count": null,
   "metadata": {
    "id": "TWXlqzstoHpf"
   },
   "outputs": [],
   "source": [
    "# This function labels each result from the predictions array to a list of indexes; each index corresponds to an emotion.\n",
    "# [(list(abeja[i]).index(max(abeja[i]))) for i in range(len(abeja))] this is the same thing in one line\n",
    "\n",
    "# - - - - - - - - - - - - - - - - - - - - - - - - - - - - - - - - - - - - - - - - - - - - - - - - - - - - - - - - - - - - - - - - - - - - - - - - #\n",
    "# This function returns the y_pred indexes (0-5) from a model.predict(x) probabilities for each emotion index.\n",
    "\n",
    "def prediction(predicted):\n",
    "  index = []\n",
    "  for i in range(len(predicted)):\n",
    "    max_p = max(predicted[i]) # highest value in each row of probabilities (one for each emotion).\n",
    "    index.append(list(predicted[i]).index(max_p)) # we append that max probability emotion to a list and return that.\n",
    "  return index\n",
    "\n",
    "# - - - - - - - - - - - - - - - - - - - - - - - - - - - - - - - - - - - - - - - - - - - - - - - - - - - - - - - - - - - - - - - - - - - - - - - - #\n",
    "# This function returns the y_pred emotion labels from the indexes given by prediction(model.predict(x))\n",
    "\n",
    "def prediction_labels(prediction):\n",
    "  emotions_dict = {k:v for (k,v) in zip(range(0,6), ['anger', 'fear', 'joy', 'love', 'sadness','surprise'])}\n",
    "  l = []\n",
    "\n",
    "  for i in range(len(prediction)):\n",
    "        dict_key = prediction[i] # the index key for the dictionary\n",
    "        l.append(emotions_dict[dict_key])\n",
    "\n",
    "  return np.array(l)\n",
    "\n",
    "# - - - - - - - - - - - - - - - - - - - - - - - - - - - - - - - - - - - - - - - - - - - - - - - - - - - - - - - - - - - - - - - - - - - - - - - - #\n",
    "# This function returns a dataframe with 'predicted' column which contains the predicted labels for each text.\n",
    "\n",
    "def prediction_to_df(test_data,prediction):\n",
    "\n",
    "    df = pd.DataFrame(columns=['text','predicted'])\n",
    "\n",
    "    df_predicted = dataframe.copy().reset_index(drop=True) # copy of input dataframe (no changes made to original)\n",
    "    df_predicted['predicted'] = \"\" \n",
    "        \n",
    "    "
   ]
  },
  {
   "cell_type": "code",
   "execution_count": null,
   "metadata": {
    "id": "GMhDcoydnRt4"
   },
   "outputs": [],
   "source": [
    "# This variable holds the predicted emotions for each document in input data. We will need to process it into labels.\n",
    "y_pred = prediction(modelo.predict(X_testFinal))"
   ]
  },
  {
   "cell_type": "code",
   "execution_count": null,
   "metadata": {},
   "outputs": [],
   "source": [
    "def plot_confusion_matrix(cm,target_names,title='Confusion matrix',cmap=None,normalize=True):\n",
    "\n",
    "    accuracy = np.trace(cm) / np.sum(cm).astype('float')\n",
    "    misclass = 1 - accuracy\n",
    "\n",
    "    if cmap is None:\n",
    "        cmap = plt.get_cmap('Blues')\n",
    "\n",
    "    plt.figure(figsize=(8, 6))\n",
    "    plt.imshow(cm, interpolation='nearest', cmap=cmap)\n",
    "    plt.title(title)\n",
    "    plt.colorbar()\n",
    "\n",
    "    if target_names is not None:\n",
    "        tick_marks = np.arange(len(target_names))\n",
    "        plt.xticks(tick_marks, target_names, rotation=45)\n",
    "        plt.yticks(tick_marks, target_names)\n",
    "\n",
    "    if normalize:\n",
    "        cm = cm.astype('float') / cm.sum(axis=1)[:, np.newaxis]\n",
    "\n",
    "    thresh = cm.max() / 1.5 if normalize else cm.max() / 2\n",
    "    for i, j in itertools.product(range(cm.shape[0]), range(cm.shape[1])):\n",
    "        if normalize:\n",
    "            plt.text(j, i, \"{:0.4f}\".format(cm[i, j]),\n",
    "                     horizontalalignment=\"center\",\n",
    "                     color=\"white\" if cm[i, j] > thresh else \"black\")\n",
    "        else:\n",
    "            plt.text(j, i, \"{:,}\".format(cm[i, j]),\n",
    "                     horizontalalignment=\"center\",\n",
    "                     color=\"white\" if cm[i, j] > thresh else \"black\")\n",
    "\n",
    "    plt.tight_layout()\n",
    "    plt.ylabel('True label')\n",
    "    plt.xlabel('Predicted label\\naccuracy={:0.4f}; misclass={:0.4f}'.format(accuracy, misclass))\n",
    "    plt.show()"
   ]
  },
  {
   "cell_type": "code",
   "execution_count": null,
   "metadata": {},
   "outputs": [
    {
     "data": {
      "image/png": "[encoded data removed]",
      "text/plain": [
       "<Figure size 576x432 with 2 Axes>"
      ]
     },
     "metadata": {
      "needs_background": "light"
     },
     "output_type": "display_data"
    }
   ],
   "source": [
    "# Plot confusion matrix with normalized values.\n",
    "cnf_matrix = confusion_matrix(Y_test, y_pred)\n",
    "plot_confusion_matrix(cnf_matrix, target_names=list(dict_emotions.keys()), normalize=True)\n",
    "\n",
    "# plt.savefig('export/confusion_matrix.png', transparent = False, format='jpg')"
   ]
  },
  {
   "cell_type": "code",
   "execution_count": null,
   "metadata": {},
   "outputs": [
    {
     "ename": "NameError",
     "evalue": "name 'dataframe' is not defined",
     "output_type": "error",
     "traceback": [
      "\u001b[1;31m---------------------------------------------------------------------------\u001b[0m",
      "\u001b[1;31mNameError\u001b[0m                                 Traceback (most recent call last)",
      "\u001b[1;32m<ipython-input-264-0f248cd4c778>\u001b[0m in \u001b[0;36m<module>\u001b[1;34m\u001b[0m\n\u001b[1;32m----> 1\u001b[1;33m \u001b[0mdf_predicted\u001b[0m \u001b[1;33m=\u001b[0m \u001b[0mprediction_to_df\u001b[0m\u001b[1;33m(\u001b[0m\u001b[0mX_testFinal\u001b[0m\u001b[1;33m,\u001b[0m \u001b[0my_pred\u001b[0m\u001b[1;33m)\u001b[0m\u001b[1;33m\u001b[0m\u001b[1;33m\u001b[0m\u001b[0m\n\u001b[0m",
      "\u001b[1;32m<ipython-input-260-bd48cabd1d69>\u001b[0m in \u001b[0;36mprediction_to_df\u001b[1;34m(test_data, prediction)\u001b[0m\n\u001b[0;32m     32\u001b[0m     \u001b[0mdf\u001b[0m \u001b[1;33m=\u001b[0m \u001b[0mpd\u001b[0m\u001b[1;33m.\u001b[0m\u001b[0mDataFrame\u001b[0m\u001b[1;33m(\u001b[0m\u001b[0mcolumns\u001b[0m\u001b[1;33m=\u001b[0m\u001b[1;33m[\u001b[0m\u001b[1;34m'text'\u001b[0m\u001b[1;33m,\u001b[0m\u001b[1;34m'predicted'\u001b[0m\u001b[1;33m]\u001b[0m\u001b[1;33m)\u001b[0m\u001b[1;33m\u001b[0m\u001b[1;33m\u001b[0m\u001b[0m\n\u001b[0;32m     33\u001b[0m \u001b[1;33m\u001b[0m\u001b[0m\n\u001b[1;32m---> 34\u001b[1;33m     \u001b[0mdf_predicted\u001b[0m \u001b[1;33m=\u001b[0m \u001b[0mdataframe\u001b[0m\u001b[1;33m.\u001b[0m\u001b[0mcopy\u001b[0m\u001b[1;33m(\u001b[0m\u001b[1;33m)\u001b[0m\u001b[1;33m.\u001b[0m\u001b[0mreset_index\u001b[0m\u001b[1;33m(\u001b[0m\u001b[0mdrop\u001b[0m\u001b[1;33m=\u001b[0m\u001b[1;32mTrue\u001b[0m\u001b[1;33m)\u001b[0m \u001b[1;31m# copy of input dataframe (no changes made to original)\u001b[0m\u001b[1;33m\u001b[0m\u001b[1;33m\u001b[0m\u001b[0m\n\u001b[0m\u001b[0;32m     35\u001b[0m     \u001b[0mdf_predicted\u001b[0m\u001b[1;33m[\u001b[0m\u001b[1;34m'predicted'\u001b[0m\u001b[1;33m]\u001b[0m \u001b[1;33m=\u001b[0m \u001b[1;34m\"\"\u001b[0m\u001b[1;33m\u001b[0m\u001b[1;33m\u001b[0m\u001b[0m\n\u001b[0;32m     36\u001b[0m \u001b[1;33m\u001b[0m\u001b[0m\n",
      "\u001b[1;31mNameError\u001b[0m: name 'dataframe' is not defined"
     ]
    }
   ],
   "source": [
    "df_predicted = prediction_to_df(X_testFinal, y_pred)"
   ]
  },
  {
   "cell_type": "code",
   "execution_count": null,
   "metadata": {
    "id": "iFtfBhELZw4Q"
   },
   "outputs": [],
   "source": [
    "# This function compares how many predicted emotions match with actual emotions from the dataset.\n",
    "# It prints successful guesses and then wrong guesses total counts.\n",
    "# Then it shows a dataframe of the most common mistakes the model made (true emotion, predicted emotion) (number of mistakes)\n",
    "\n",
    "def accuracy_comparison(dataframe1, dataframe2):\n",
    "\n",
    "    true = 0\n",
    "    false = 0\n",
    "    wrong_predictions = []\n",
    "\n",
    "    df_test = dataframe1.copy().reset_index(drop=True)\n",
    "    df_predicted = dataframe2.copy().reset_index(drop=True)\n",
    "\n",
    "    for i in range(len(df_test)):\n",
    "        if df_test.emotion[i] == df_predicted.predicted[i]:\n",
    "            true += 1\n",
    "        else:\n",
    "            false += 1\n",
    "            wrong_predictions.append([df_test['emotion'][i], df_predicted['predicted'][i]])\n",
    "            \n",
    "\n",
    "    print('-' * 50)\n",
    "    print(f'Successful predictions: {true} out of {len(df_test)}')\n",
    "    print('-' * 50)\n",
    "    print(f'Wrong predictions: {false} out of {len(df_test)}')\n",
    "    print('-' * 50)\n",
    "    \n",
    "    lista = []\n",
    "    for i in wrong_predictions:\n",
    "        if i not in lista:\n",
    "            lista.append(i)\n",
    "\n",
    "    df = pd.DataFrame()\n",
    "    df.insert(0, column = 'true, predicted',value='', allow_duplicates=True)\n",
    "    df.insert(1, column = 'times',value='', allow_duplicates=True)\n",
    "\n",
    "    for i in range(len(lista)):\n",
    "\n",
    "        df2 = {'true, predicted': lista[i], 'times': wrong_predictions.count(lista[i])}\n",
    "        df = df.append(df2, ignore_index = True).sort_values(by='times', ascending=False)\n",
    "        \n",
    "    display(df)\n",
    "    cont=0\n",
    "    for i in df['times']:\n",
    "        cont += i\n",
    "    print(f'total mistakes: {cont}')\n",
    "\n"
   ]
  },
  {
   "cell_type": "code",
   "execution_count": null,
   "metadata": {
    "colab": {
     "base_uri": "https://localhost:8080/",
     "height": 920
    },
    "id": "KMuIvsCCZw4R",
    "outputId": "e8587d75-a910-4d74-bfed-6017c59dbe38"
   },
   "outputs": [
    {
     "name": "stdout",
     "output_type": "stream",
     "text": [
      "--------------------------------------------------\n",
      "Successful predictions: 0 out of 0\n",
      "--------------------------------------------------\n",
      "Wrong predictions: 0 out of 0\n",
      "--------------------------------------------------\n"
     ]
    },
    {
     "data": {
      "text/html": [
       "<div>\n",
       "<style scoped>\n",
       "    .dataframe tbody tr th:only-of-type {\n",
       "        vertical-align: middle;\n",
       "    }\n",
       "\n",
       "    .dataframe tbody tr th {\n",
       "        vertical-align: top;\n",
       "    }\n",
       "\n",
       "    .dataframe thead th {\n",
       "        text-align: right;\n",
       "    }\n",
       "</style>\n",
       "<table border=\"1\" class=\"dataframe\">\n",
       "  <thead>\n",
       "    <tr style=\"text-align: right;\">\n",
       "      <th></th>\n",
       "      <th>true, predicted</th>\n",
       "      <th>times</th>\n",
       "    </tr>\n",
       "  </thead>\n",
       "  <tbody>\n",
       "  </tbody>\n",
       "</table>\n",
       "</div>"
      ],
      "text/plain": [
       "Empty DataFrame\n",
       "Columns: [true, predicted, times]\n",
       "Index: []"
      ]
     },
     "metadata": {},
     "output_type": "display_data"
    },
    {
     "name": "stdout",
     "output_type": "stream",
     "text": [
      "total mistakes: 0\n"
     ]
    }
   ],
   "source": [
    "accuracy_comparison(df_test,df_predicted)"
   ]
  },
  {
   "cell_type": "markdown",
   "metadata": {
    "id": "rUihoPKRZw4S"
   },
   "source": [
    "## Sentiment140 testing\n"
   ]
  },
  {
   "cell_type": "code",
   "execution_count": null,
   "metadata": {
    "colab": {
     "base_uri": "https://localhost:8080/",
     "height": 320
    },
    "id": "A-_T3waYZw4S",
    "outputId": "2b939920-5931-4594-9b37-320bbdc79462"
   },
   "outputs": [],
   "source": [
    "df_tweets = pd.read_csv('dataset/sentiment140/training.1600000.processed.noemoticon.csv',encoding='latin-1', names=['target','ids','date','flag','user','text'])"
   ]
  },
  {
   "cell_type": "code",
   "execution_count": null,
   "metadata": {
    "id": "AYk6WLiNZw4S"
   },
   "outputs": [],
   "source": [
    "# Select 2000 positive and 2000 negative tweets so that it's as unbiased as possible. Drop unneeded columns.\n",
    "\n",
    "df_tweets = df_tweets.drop(columns=['ids','date','flag','user'])\n",
    "df_tweets_final = pd.DataFrame()\n",
    "\n",
    "df_tweets_positive = df_tweets.loc[df_tweets['target'] == 4]\n",
    "df_tweets_final = df_tweets_final.append(df_tweets_positive[:2000])\n",
    "\n",
    "df_tweets_negative = df_tweets.loc[df_tweets['target'] == 0]\n",
    "df_tweets_final = df_tweets_final.append(df_tweets_negative[:2000])\n",
    "\n",
    "df_tweets_final = df_tweets_final.reset_index(drop=True)"
   ]
  },
  {
   "cell_type": "code",
   "execution_count": null,
   "metadata": {
    "id": "h3kNox9mZw4T"
   },
   "outputs": [
    {
     "data": {
      "text/html": [
       "<div>\n",
       "<style scoped>\n",
       "    .dataframe tbody tr th:only-of-type {\n",
       "        vertical-align: middle;\n",
       "    }\n",
       "\n",
       "    .dataframe tbody tr th {\n",
       "        vertical-align: top;\n",
       "    }\n",
       "\n",
       "    .dataframe thead th {\n",
       "        text-align: right;\n",
       "    }\n",
       "</style>\n",
       "<table border=\"1\" class=\"dataframe\">\n",
       "  <thead>\n",
       "    <tr style=\"text-align: right;\">\n",
       "      <th></th>\n",
       "      <th>target</th>\n",
       "      <th>text</th>\n",
       "    </tr>\n",
       "  </thead>\n",
       "  <tbody>\n",
       "    <tr>\n",
       "      <th>0</th>\n",
       "      <td>4</td>\n",
       "      <td>[love, guys, best]</td>\n",
       "    </tr>\n",
       "    <tr>\n",
       "      <th>1</th>\n",
       "      <td>4</td>\n",
       "      <td>[meeting, one, besties, tonight, cant, wait, g...</td>\n",
       "    </tr>\n",
       "    <tr>\n",
       "      <th>2</th>\n",
       "      <td>4</td>\n",
       "      <td>[thanks, twitter, add, sunisa, got, meet, hin,...</td>\n",
       "    </tr>\n",
       "    <tr>\n",
       "      <th>3</th>\n",
       "      <td>4</td>\n",
       "      <td>[sick, really, cheap, hurts, much, eat, real, ...</td>\n",
       "    </tr>\n",
       "    <tr>\n",
       "      <th>4</th>\n",
       "      <td>4</td>\n",
       "      <td>[effect, everyone]</td>\n",
       "    </tr>\n",
       "    <tr>\n",
       "      <th>...</th>\n",
       "      <td>...</td>\n",
       "      <td>...</td>\n",
       "    </tr>\n",
       "    <tr>\n",
       "      <th>3995</th>\n",
       "      <td>0</td>\n",
       "      <td>[yep, loser]</td>\n",
       "    </tr>\n",
       "    <tr>\n",
       "      <th>3996</th>\n",
       "      <td>0</td>\n",
       "      <td>[finito, bathroom, contractors, thru, house, q...</td>\n",
       "    </tr>\n",
       "    <tr>\n",
       "      <th>3997</th>\n",
       "      <td>0</td>\n",
       "      <td>[awww, sucks, going, sydney, one]</td>\n",
       "    </tr>\n",
       "    <tr>\n",
       "      <th>3998</th>\n",
       "      <td>0</td>\n",
       "      <td>[sorry, rescheduling, trip, coming, weekend, m...</td>\n",
       "    </tr>\n",
       "    <tr>\n",
       "      <th>3999</th>\n",
       "      <td>0</td>\n",
       "      <td>[2morw, get, blasted, wisdom, teeth, pulled, n...</td>\n",
       "    </tr>\n",
       "  </tbody>\n",
       "</table>\n",
       "<p>4000 rows × 2 columns</p>\n",
       "</div>"
      ],
      "text/plain": [
       "      target                                               text\n",
       "0          4                                 [love, guys, best]\n",
       "1          4  [meeting, one, besties, tonight, cant, wait, g...\n",
       "2          4  [thanks, twitter, add, sunisa, got, meet, hin,...\n",
       "3          4  [sick, really, cheap, hurts, much, eat, real, ...\n",
       "4          4                                 [effect, everyone]\n",
       "...      ...                                                ...\n",
       "3995       0                                       [yep, loser]\n",
       "3996       0  [finito, bathroom, contractors, thru, house, q...\n",
       "3997       0                  [awww, sucks, going, sydney, one]\n",
       "3998       0  [sorry, rescheduling, trip, coming, weekend, m...\n",
       "3999       0  [2morw, get, blasted, wisdom, teeth, pulled, n...\n",
       "\n",
       "[4000 rows x 2 columns]"
      ]
     },
     "execution_count": 392,
     "metadata": {},
     "output_type": "execute_result"
    }
   ],
   "source": [
    "prepare(df_tweets_final)"
   ]
  },
  {
   "cell_type": "code",
   "execution_count": null,
   "metadata": {
    "id": "ldO6Gj9RZw4U"
   },
   "outputs": [],
   "source": [
    "df_tweets_final_encoded = encode(df_tweets_final)"
   ]
  },
  {
   "cell_type": "code",
   "execution_count": null,
   "metadata": {
    "id": "gO_ER8d_Zw4U"
   },
   "outputs": [
    {
     "name": "stdout",
     "output_type": "stream",
     "text": [
      "Mean length: 6.6485\n",
      "Lengths stdev: 3.683808864477092\n",
      "Lengths Median: 6.0\n",
      "Lengths Max: 21\n"
     ]
    }
   ],
   "source": [
    "# Statistics for document length as an estimation for determining padding parameters.\n",
    "\n",
    "lengths = [len(a) for a in df_tweets_final['text']]\n",
    "print(\"Mean length: {}\".format(np.mean(lengths)))\n",
    "print(\"Lengths stdev: {}\".format(np.std(lengths)))\n",
    "print(\"Lengths Median: {}\".format(np.median(lengths)))\n",
    "print(\"Lengths Max: {}\".format(np.max(lengths)))\n",
    "\n",
    "\n",
    "# Choose a good value for maxlen\n",
    "\n",
    "maxlen=np.max(lengths)\n"
   ]
  },
  {
   "cell_type": "code",
   "execution_count": null,
   "metadata": {
    "id": "NXmWqgt-Zw4V"
   },
   "outputs": [],
   "source": [
    "# Pad sequencing based on maxlen variable\n",
    "tweets_Final = sequence.pad_sequences(df_tweets_final_encoded, maxlen)"
   ]
  },
  {
   "cell_type": "code",
   "execution_count": null,
   "metadata": {
    "id": "EWYvfmsnZw4V"
   },
   "outputs": [],
   "source": [
    "# This variable holds the predicted emotions for each document in input data. We will need to process it into labels.\n",
    "y_pred = prediction(modelo.predict(tweets_Final))"
   ]
  },
  {
   "cell_type": "code",
   "execution_count": null,
   "metadata": {},
   "outputs": [],
   "source": [
    "labels = prediction_labels(y_pred)"
   ]
  },
  {
   "cell_type": "code",
   "execution_count": null,
   "metadata": {},
   "outputs": [
    {
     "data": {
      "text/plain": [
       "sadness     1416\n",
       "joy          834\n",
       "anger        737\n",
       "fear         519\n",
       "love         331\n",
       "surprise     163\n",
       "dtype: int64"
      ]
     },
     "execution_count": 398,
     "metadata": {},
     "output_type": "execute_result"
    }
   ],
   "source": [
    "labels = pd.Series(labels)\n",
    "labels.value_counts()"
   ]
  }
 ],
 "metadata": {
  "accelerator": "GPU",
  "colab": {
   "collapsed_sections": [],
   "name": "prototipo_modelo_correcto.ipynb",
   "provenance": []
  },
  "interpreter": {
   "hash": "b888ebc42d7fcd9785124f066f539eb5555d0b3402c7cc64f055e68c1633f52f"
  },
  "kernelspec": {
   "display_name": "Python 3",
   "language": "python",
   "name": "python3"
  },
  "language_info": {
   "codemirror_mode": {
    "name": "ipython",
    "version": 3
   },
   "file_extension": ".py",
   "mimetype": "text/x-python",
   "name": "python",
   "nbconvert_exporter": "python",
   "pygments_lexer": "ipython3",
   "version": "3.7.10"
  }
 },
 "nbformat": 4,
 "nbformat_minor": 1
}
